{
  "nbformat": 4,
  "nbformat_minor": 0,
  "metadata": {
    "colab": {
      "name": "herramienta_inteligente-02.ipynb",
      "provenance": [],
      "collapsed_sections": [],
      "include_colab_link": true
    },
    "kernelspec": {
      "display_name": "Python 3",
      "language": "python",
      "name": "python3"
    },
    "language_info": {
      "codemirror_mode": {
        "name": "ipython",
        "version": 3
      },
      "file_extension": ".py",
      "mimetype": "text/x-python",
      "name": "python",
      "nbconvert_exporter": "python",
      "pygments_lexer": "ipython3",
      "version": "3.8.5"
    }
  },
  "cells": [
    {
      "cell_type": "markdown",
      "metadata": {
        "id": "view-in-github",
        "colab_type": "text"
      },
      "source": [
        "<a href=\"https://colab.research.google.com/github/DanielBerns/Matlab-source-codes/blob/master/herramienta_inteligente_02.ipynb\" target=\"_parent\"><img src=\"https://colab.research.google.com/assets/colab-badge.svg\" alt=\"Open In Colab\"/></a>"
      ]
    },
    {
      "cell_type": "markdown",
      "metadata": {
        "colab_type": "text",
        "id": "WR8lfdGg0j_I"
      },
      "source": [
        "# Pasaje de herramienta inteligente\n",
        "\n",
        "Para Carlos Alberto Sanchez"
      ]
    },
    {
      "cell_type": "code",
      "metadata": {
        "colab_type": "code",
        "id": "Ggihiei60z5E",
        "colab": {
          "base_uri": "https://localhost:8080/",
          "height": 34
        },
        "outputId": "0cf893d1-5754-4a99-e4a1-354b7c66a09e"
      },
      "source": [
        "from google.colab import drive\n",
        "\n",
        "root = '/content/drive'\n",
        "drive.mount(root)"
      ],
      "execution_count": 2,
      "outputs": [
        {
          "output_type": "stream",
          "text": [
            "Mounted at /content/drive\n"
          ],
          "name": "stdout"
        }
      ]
    },
    {
      "cell_type": "code",
      "metadata": {
        "colab_type": "code",
        "id": "ZXr6mJHa11zu",
        "colab": {}
      },
      "source": [
        "import pandas as pd"
      ],
      "execution_count": 3,
      "outputs": []
    },
    {
      "cell_type": "code",
      "metadata": {
        "colab_type": "code",
        "id": "BPmjYZ9b2HOx",
        "colab": {}
      },
      "source": [
        "dataset_filename = f'{root:s}/My Drive/Colab Notebooks/python_para_calculos_en_google_colab/Data set v5.xlsx'\n",
        "sheet_2012 = pd.read_excel(dataset_filename, header=1, usecols=range(1,13), sheet_name='Corrida 2012')\n",
        "sheet_2019 = pd.read_excel(dataset_filename, header=1, usecols=range(1,13), sheet_name='Corrida 2019')\n",
        "sheet_compara = pd.read_excel(dataset_filename, header=1, usecols=range(1,13), sheet_name='Hoja4')"
      ],
      "execution_count": 4,
      "outputs": []
    },
    {
      "cell_type": "code",
      "metadata": {
        "id": "WnnIqHFU8ADl",
        "colab_type": "code",
        "colab": {
          "base_uri": "https://localhost:8080/",
          "height": 606
        },
        "outputId": "4bd4728e-b3a9-49fb-a726-cf9eced35861"
      },
      "source": [
        "sheet_2012"
      ],
      "execution_count": 5,
      "outputs": [
        {
          "output_type": "execute_result",
          "data": {
            "text/html": [
              "<div>\n",
              "<style scoped>\n",
              "    .dataframe tbody tr th:only-of-type {\n",
              "        vertical-align: middle;\n",
              "    }\n",
              "\n",
              "    .dataframe tbody tr th {\n",
              "        vertical-align: top;\n",
              "    }\n",
              "\n",
              "    .dataframe thead th {\n",
              "        text-align: right;\n",
              "    }\n",
              "</style>\n",
              "<table border=\"1\" class=\"dataframe\">\n",
              "  <thead>\n",
              "    <tr style=\"text-align: right;\">\n",
              "      <th></th>\n",
              "      <th>dist. del reg. m</th>\n",
              "      <th>a sold. a. arriba m</th>\n",
              "      <th>junta N°.</th>\n",
              "      <th>esp. mm</th>\n",
              "      <th>pos. Horaria</th>\n",
              "      <th>ident. de anomalá</th>\n",
              "      <th>long. mm</th>\n",
              "      <th>ancho mm</th>\n",
              "      <th>prof. Máx. %</th>\n",
              "      <th>Año de inspecc.</th>\n",
              "      <th>esp. remanente mm</th>\n",
              "      <th>ALTitud (mts)</th>\n",
              "    </tr>\n",
              "  </thead>\n",
              "  <tbody>\n",
              "    <tr>\n",
              "      <th>0</th>\n",
              "      <td>23.34</td>\n",
              "      <td>-0.83</td>\n",
              "      <td>30</td>\n",
              "      <td>8.74</td>\n",
              "      <td>03:30:00</td>\n",
              "      <td>perdida de metal-corrosion</td>\n",
              "      <td>15</td>\n",
              "      <td>18</td>\n",
              "      <td>10</td>\n",
              "      <td>2012</td>\n",
              "      <td>7.8660</td>\n",
              "      <td>575.000000</td>\n",
              "    </tr>\n",
              "    <tr>\n",
              "      <th>1</th>\n",
              "      <td>26.99</td>\n",
              "      <td>-4.48</td>\n",
              "      <td>30</td>\n",
              "      <td>8.74</td>\n",
              "      <td>07:08:00</td>\n",
              "      <td>perdida de metal-corrosion</td>\n",
              "      <td>14</td>\n",
              "      <td>18</td>\n",
              "      <td>10</td>\n",
              "      <td>2012</td>\n",
              "      <td>7.8660</td>\n",
              "      <td>575.000000</td>\n",
              "    </tr>\n",
              "    <tr>\n",
              "      <th>2</th>\n",
              "      <td>131.02</td>\n",
              "      <td>-5.57</td>\n",
              "      <td>120</td>\n",
              "      <td>8.74</td>\n",
              "      <td>08:21:00</td>\n",
              "      <td>perdida de metal-corrosion</td>\n",
              "      <td>18</td>\n",
              "      <td>18</td>\n",
              "      <td>10</td>\n",
              "      <td>2012</td>\n",
              "      <td>7.8660</td>\n",
              "      <td>574.000000</td>\n",
              "    </tr>\n",
              "    <tr>\n",
              "      <th>3</th>\n",
              "      <td>144.92</td>\n",
              "      <td>-7.58</td>\n",
              "      <td>130</td>\n",
              "      <td>8.74</td>\n",
              "      <td>07:11:00</td>\n",
              "      <td>perdida de metal-corrosion</td>\n",
              "      <td>14</td>\n",
              "      <td>18</td>\n",
              "      <td>11</td>\n",
              "      <td>2012</td>\n",
              "      <td>7.7786</td>\n",
              "      <td>573.000000</td>\n",
              "    </tr>\n",
              "    <tr>\n",
              "      <th>4</th>\n",
              "      <td>146.36</td>\n",
              "      <td>-9.02</td>\n",
              "      <td>130</td>\n",
              "      <td>8.74</td>\n",
              "      <td>05:06:00</td>\n",
              "      <td>perdida de metal-corrosion</td>\n",
              "      <td>12</td>\n",
              "      <td>18</td>\n",
              "      <td>12</td>\n",
              "      <td>2012</td>\n",
              "      <td>7.6912</td>\n",
              "      <td>573.000000</td>\n",
              "    </tr>\n",
              "    <tr>\n",
              "      <th>...</th>\n",
              "      <td>...</td>\n",
              "      <td>...</td>\n",
              "      <td>...</td>\n",
              "      <td>...</td>\n",
              "      <td>...</td>\n",
              "      <td>...</td>\n",
              "      <td>...</td>\n",
              "      <td>...</td>\n",
              "      <td>...</td>\n",
              "      <td>...</td>\n",
              "      <td>...</td>\n",
              "      <td>...</td>\n",
              "    </tr>\n",
              "    <tr>\n",
              "      <th>988</th>\n",
              "      <td>28281.13</td>\n",
              "      <td>-1.91</td>\n",
              "      <td>23660</td>\n",
              "      <td>7.11</td>\n",
              "      <td>08:47:00</td>\n",
              "      <td>perdida de metal-corrosion</td>\n",
              "      <td>23</td>\n",
              "      <td>23</td>\n",
              "      <td>11</td>\n",
              "      <td>2012</td>\n",
              "      <td>6.3279</td>\n",
              "      <td>330.854505</td>\n",
              "    </tr>\n",
              "    <tr>\n",
              "      <th>989</th>\n",
              "      <td>28283.76</td>\n",
              "      <td>-4.54</td>\n",
              "      <td>23660</td>\n",
              "      <td>7.11</td>\n",
              "      <td>05:43:00</td>\n",
              "      <td>perdida de metal-corrosion</td>\n",
              "      <td>15</td>\n",
              "      <td>18</td>\n",
              "      <td>11</td>\n",
              "      <td>2012</td>\n",
              "      <td>6.3279</td>\n",
              "      <td>330.848498</td>\n",
              "    </tr>\n",
              "    <tr>\n",
              "      <th>990</th>\n",
              "      <td>28284.46</td>\n",
              "      <td>-5.24</td>\n",
              "      <td>23660</td>\n",
              "      <td>7.11</td>\n",
              "      <td>03:47:00</td>\n",
              "      <td>perdida de metal-corrosion</td>\n",
              "      <td>26</td>\n",
              "      <td>25</td>\n",
              "      <td>18</td>\n",
              "      <td>2012</td>\n",
              "      <td>5.8302</td>\n",
              "      <td>330.842492</td>\n",
              "    </tr>\n",
              "    <tr>\n",
              "      <th>991</th>\n",
              "      <td>28304.98</td>\n",
              "      <td>-5.84</td>\n",
              "      <td>23710</td>\n",
              "      <td>7.11</td>\n",
              "      <td>05:03:00</td>\n",
              "      <td>perdida de metal-corrosion</td>\n",
              "      <td>15</td>\n",
              "      <td>18</td>\n",
              "      <td>10</td>\n",
              "      <td>2012</td>\n",
              "      <td>6.3990</td>\n",
              "      <td>330.836485</td>\n",
              "    </tr>\n",
              "    <tr>\n",
              "      <th>992</th>\n",
              "      <td>28306.42</td>\n",
              "      <td>-7.27</td>\n",
              "      <td>23710</td>\n",
              "      <td>7.11</td>\n",
              "      <td>05:07:00</td>\n",
              "      <td>perdida de metal-corrosion</td>\n",
              "      <td>23</td>\n",
              "      <td>18</td>\n",
              "      <td>11</td>\n",
              "      <td>2012</td>\n",
              "      <td>6.3279</td>\n",
              "      <td>330.830478</td>\n",
              "    </tr>\n",
              "  </tbody>\n",
              "</table>\n",
              "<p>993 rows × 12 columns</p>\n",
              "</div>"
            ],
            "text/plain": [
              "     dist. del reg. m  a sold. a. arriba m  ...  esp. remanente mm  ALTitud (mts)\n",
              "0               23.34                -0.83  ...             7.8660     575.000000\n",
              "1               26.99                -4.48  ...             7.8660     575.000000\n",
              "2              131.02                -5.57  ...             7.8660     574.000000\n",
              "3              144.92                -7.58  ...             7.7786     573.000000\n",
              "4              146.36                -9.02  ...             7.6912     573.000000\n",
              "..                ...                  ...  ...                ...            ...\n",
              "988          28281.13                -1.91  ...             6.3279     330.854505\n",
              "989          28283.76                -4.54  ...             6.3279     330.848498\n",
              "990          28284.46                -5.24  ...             5.8302     330.842492\n",
              "991          28304.98                -5.84  ...             6.3990     330.836485\n",
              "992          28306.42                -7.27  ...             6.3279     330.830478\n",
              "\n",
              "[993 rows x 12 columns]"
            ]
          },
          "metadata": {
            "tags": []
          },
          "execution_count": 5
        }
      ]
    },
    {
      "cell_type": "code",
      "metadata": {
        "id": "b7Tme9s5ByIU",
        "colab_type": "code",
        "colab": {
          "base_uri": "https://localhost:8080/",
          "height": 436
        },
        "outputId": "b2d84347-6c13-4eee-dd0f-d8aa5c1840b8"
      },
      "source": [
        "sheet_2019"
      ],
      "execution_count": 6,
      "outputs": [
        {
          "output_type": "execute_result",
          "data": {
            "text/html": [
              "<div>\n",
              "<style scoped>\n",
              "    .dataframe tbody tr th:only-of-type {\n",
              "        vertical-align: middle;\n",
              "    }\n",
              "\n",
              "    .dataframe tbody tr th {\n",
              "        vertical-align: top;\n",
              "    }\n",
              "\n",
              "    .dataframe thead th {\n",
              "        text-align: right;\n",
              "    }\n",
              "</style>\n",
              "<table border=\"1\" class=\"dataframe\">\n",
              "  <thead>\n",
              "    <tr style=\"text-align: right;\">\n",
              "      <th></th>\n",
              "      <th>dist. del reg. m</th>\n",
              "      <th>a sold. a. arriba m</th>\n",
              "      <th>junta N°.</th>\n",
              "      <th>esp. mm</th>\n",
              "      <th>pos. Horaria</th>\n",
              "      <th>ident. de anomalá</th>\n",
              "      <th>long. mm</th>\n",
              "      <th>ancho mm</th>\n",
              "      <th>prof. Máx. %</th>\n",
              "      <th>Año de inspecc.</th>\n",
              "      <th>esp. remanente mm</th>\n",
              "      <th>ALTitud (mts)</th>\n",
              "    </tr>\n",
              "  </thead>\n",
              "  <tbody>\n",
              "    <tr>\n",
              "      <th>0</th>\n",
              "      <td>23.245</td>\n",
              "      <td>-0.734</td>\n",
              "      <td>30</td>\n",
              "      <td>8.74</td>\n",
              "      <td>03:39:00</td>\n",
              "      <td>Corrosión  / nota 2</td>\n",
              "      <td>11</td>\n",
              "      <td>15</td>\n",
              "      <td>11</td>\n",
              "      <td>2019</td>\n",
              "      <td>7.7786</td>\n",
              "      <td>575.000000</td>\n",
              "    </tr>\n",
              "    <tr>\n",
              "      <th>1</th>\n",
              "      <td>26.909</td>\n",
              "      <td>-4.398</td>\n",
              "      <td>30</td>\n",
              "      <td>8.74</td>\n",
              "      <td>07:14:00</td>\n",
              "      <td>Corrosión  / nota 2</td>\n",
              "      <td>10</td>\n",
              "      <td>15</td>\n",
              "      <td>11</td>\n",
              "      <td>2019</td>\n",
              "      <td>7.7786</td>\n",
              "      <td>575.000000</td>\n",
              "    </tr>\n",
              "    <tr>\n",
              "      <th>2</th>\n",
              "      <td>130.970</td>\n",
              "      <td>-5.517</td>\n",
              "      <td>120</td>\n",
              "      <td>8.74</td>\n",
              "      <td>08:30:00</td>\n",
              "      <td>Corrosión  / nota 2</td>\n",
              "      <td>12</td>\n",
              "      <td>15</td>\n",
              "      <td>11</td>\n",
              "      <td>2019</td>\n",
              "      <td>7.7786</td>\n",
              "      <td>574.000000</td>\n",
              "    </tr>\n",
              "    <tr>\n",
              "      <th>3</th>\n",
              "      <td>144.918</td>\n",
              "      <td>-7.580</td>\n",
              "      <td>130</td>\n",
              "      <td>8.74</td>\n",
              "      <td>07:25:00</td>\n",
              "      <td>Corrosión  / nota 2</td>\n",
              "      <td>9</td>\n",
              "      <td>16</td>\n",
              "      <td>13</td>\n",
              "      <td>2019</td>\n",
              "      <td>7.6038</td>\n",
              "      <td>573.000000</td>\n",
              "    </tr>\n",
              "    <tr>\n",
              "      <th>4</th>\n",
              "      <td>146.356</td>\n",
              "      <td>-9.018</td>\n",
              "      <td>130</td>\n",
              "      <td>8.74</td>\n",
              "      <td>05:19:00</td>\n",
              "      <td>Corrosión  / nota 2</td>\n",
              "      <td>10</td>\n",
              "      <td>15</td>\n",
              "      <td>13</td>\n",
              "      <td>2019</td>\n",
              "      <td>7.6038</td>\n",
              "      <td>573.000000</td>\n",
              "    </tr>\n",
              "    <tr>\n",
              "      <th>...</th>\n",
              "      <td>...</td>\n",
              "      <td>...</td>\n",
              "      <td>...</td>\n",
              "      <td>...</td>\n",
              "      <td>...</td>\n",
              "      <td>...</td>\n",
              "      <td>...</td>\n",
              "      <td>...</td>\n",
              "      <td>...</td>\n",
              "      <td>...</td>\n",
              "      <td>...</td>\n",
              "      <td>...</td>\n",
              "    </tr>\n",
              "    <tr>\n",
              "      <th>988</th>\n",
              "      <td>28281.107</td>\n",
              "      <td>-1.325</td>\n",
              "      <td>23662</td>\n",
              "      <td>7.11</td>\n",
              "      <td>09:00:00</td>\n",
              "      <td>Corrosión  / nota 1</td>\n",
              "      <td>12</td>\n",
              "      <td>15</td>\n",
              "      <td>14</td>\n",
              "      <td>2019</td>\n",
              "      <td>6.1146</td>\n",
              "      <td>330.854505</td>\n",
              "    </tr>\n",
              "    <tr>\n",
              "      <th>989</th>\n",
              "      <td>28283.732</td>\n",
              "      <td>-0.563</td>\n",
              "      <td>23666</td>\n",
              "      <td>7.11</td>\n",
              "      <td>05:35:00</td>\n",
              "      <td>Corrosión  / nota 1</td>\n",
              "      <td>36</td>\n",
              "      <td>51</td>\n",
              "      <td>12</td>\n",
              "      <td>2019</td>\n",
              "      <td>6.2568</td>\n",
              "      <td>330.848498</td>\n",
              "    </tr>\n",
              "    <tr>\n",
              "      <th>990</th>\n",
              "      <td>28284.454</td>\n",
              "      <td>-1.285</td>\n",
              "      <td>23666</td>\n",
              "      <td>7.11</td>\n",
              "      <td>03:54:00</td>\n",
              "      <td>Corrosión  / nota 1</td>\n",
              "      <td>20</td>\n",
              "      <td>21</td>\n",
              "      <td>20</td>\n",
              "      <td>2019</td>\n",
              "      <td>5.6880</td>\n",
              "      <td>330.842492</td>\n",
              "    </tr>\n",
              "    <tr>\n",
              "      <th>991</th>\n",
              "      <td>28304.959</td>\n",
              "      <td>-5.817</td>\n",
              "      <td>23710</td>\n",
              "      <td>7.11</td>\n",
              "      <td>05:08:00</td>\n",
              "      <td>Corrosión  / nota 1</td>\n",
              "      <td>11</td>\n",
              "      <td>15</td>\n",
              "      <td>13</td>\n",
              "      <td>2019</td>\n",
              "      <td>6.1857</td>\n",
              "      <td>330.836485</td>\n",
              "    </tr>\n",
              "    <tr>\n",
              "      <th>992</th>\n",
              "      <td>28306.388</td>\n",
              "      <td>-7.246</td>\n",
              "      <td>23710</td>\n",
              "      <td>7.11</td>\n",
              "      <td>04:54:00</td>\n",
              "      <td>Corrosión  / nota 1</td>\n",
              "      <td>12</td>\n",
              "      <td>16</td>\n",
              "      <td>12</td>\n",
              "      <td>2019</td>\n",
              "      <td>6.2568</td>\n",
              "      <td>330.830478</td>\n",
              "    </tr>\n",
              "  </tbody>\n",
              "</table>\n",
              "<p>993 rows × 12 columns</p>\n",
              "</div>"
            ],
            "text/plain": [
              "     dist. del reg. m  a sold. a. arriba m  ...  esp. remanente mm  ALTitud (mts)\n",
              "0              23.245               -0.734  ...             7.7786     575.000000\n",
              "1              26.909               -4.398  ...             7.7786     575.000000\n",
              "2             130.970               -5.517  ...             7.7786     574.000000\n",
              "3             144.918               -7.580  ...             7.6038     573.000000\n",
              "4             146.356               -9.018  ...             7.6038     573.000000\n",
              "..                ...                  ...  ...                ...            ...\n",
              "988         28281.107               -1.325  ...             6.1146     330.854505\n",
              "989         28283.732               -0.563  ...             6.2568     330.848498\n",
              "990         28284.454               -1.285  ...             5.6880     330.842492\n",
              "991         28304.959               -5.817  ...             6.1857     330.836485\n",
              "992         28306.388               -7.246  ...             6.2568     330.830478\n",
              "\n",
              "[993 rows x 12 columns]"
            ]
          },
          "metadata": {
            "tags": []
          },
          "execution_count": 6
        }
      ]
    },
    {
      "cell_type": "code",
      "metadata": {
        "id": "uJDY1uTRCa3a",
        "colab_type": "code",
        "colab": {
          "base_uri": "https://localhost:8080/",
          "height": 453
        },
        "outputId": "9a737bad-3f8d-45bc-b95b-81d79d0559ea"
      },
      "source": [
        "sheet_compara"
      ],
      "execution_count": 7,
      "outputs": [
        {
          "output_type": "execute_result",
          "data": {
            "text/html": [
              "<div>\n",
              "<style scoped>\n",
              "    .dataframe tbody tr th:only-of-type {\n",
              "        vertical-align: middle;\n",
              "    }\n",
              "\n",
              "    .dataframe tbody tr th {\n",
              "        vertical-align: top;\n",
              "    }\n",
              "\n",
              "    .dataframe thead th {\n",
              "        text-align: right;\n",
              "    }\n",
              "</style>\n",
              "<table border=\"1\" class=\"dataframe\">\n",
              "  <thead>\n",
              "    <tr style=\"text-align: right;\">\n",
              "      <th></th>\n",
              "      <th>junta</th>\n",
              "      <th>ESPESOR NOMINAL</th>\n",
              "      <th>ALTitud (mts)</th>\n",
              "      <th>esp. remanente mm</th>\n",
              "      <th>Año de inspecc.</th>\n",
              "      <th>ESPESOR REMANENTE EN mm</th>\n",
              "      <th>Año de inspecc..1</th>\n",
              "      <th>PERDIDA DE ESPESOR  ENTER 2012-2019</th>\n",
              "      <th>PERDIDA DE ESPESOR 2019</th>\n",
              "      <th>porcentage de espesor perdido</th>\n",
              "      <th>perdida de espesor por año</th>\n",
              "    </tr>\n",
              "  </thead>\n",
              "  <tbody>\n",
              "    <tr>\n",
              "      <th>0</th>\n",
              "      <td>30</td>\n",
              "      <td>8.74</td>\n",
              "      <td>575.000000</td>\n",
              "      <td>7.8660</td>\n",
              "      <td>2012</td>\n",
              "      <td>7.7786</td>\n",
              "      <td>2019</td>\n",
              "      <td>0.0874</td>\n",
              "      <td>0.9614</td>\n",
              "      <td>8.74</td>\n",
              "      <td>0.012486</td>\n",
              "    </tr>\n",
              "    <tr>\n",
              "      <th>1</th>\n",
              "      <td>30</td>\n",
              "      <td>8.74</td>\n",
              "      <td>575.000000</td>\n",
              "      <td>7.8660</td>\n",
              "      <td>2012</td>\n",
              "      <td>7.7786</td>\n",
              "      <td>2019</td>\n",
              "      <td>0.0874</td>\n",
              "      <td>0.9614</td>\n",
              "      <td>8.74</td>\n",
              "      <td>0.012486</td>\n",
              "    </tr>\n",
              "    <tr>\n",
              "      <th>2</th>\n",
              "      <td>120</td>\n",
              "      <td>8.74</td>\n",
              "      <td>574.000000</td>\n",
              "      <td>7.8660</td>\n",
              "      <td>2012</td>\n",
              "      <td>7.7786</td>\n",
              "      <td>2019</td>\n",
              "      <td>0.0874</td>\n",
              "      <td>0.9614</td>\n",
              "      <td>8.74</td>\n",
              "      <td>0.012486</td>\n",
              "    </tr>\n",
              "    <tr>\n",
              "      <th>3</th>\n",
              "      <td>130</td>\n",
              "      <td>8.74</td>\n",
              "      <td>573.000000</td>\n",
              "      <td>7.7786</td>\n",
              "      <td>2012</td>\n",
              "      <td>7.6038</td>\n",
              "      <td>2019</td>\n",
              "      <td>0.1748</td>\n",
              "      <td>1.1362</td>\n",
              "      <td>17.48</td>\n",
              "      <td>0.024971</td>\n",
              "    </tr>\n",
              "    <tr>\n",
              "      <th>4</th>\n",
              "      <td>130</td>\n",
              "      <td>8.74</td>\n",
              "      <td>573.000000</td>\n",
              "      <td>7.6912</td>\n",
              "      <td>2012</td>\n",
              "      <td>7.6038</td>\n",
              "      <td>2019</td>\n",
              "      <td>0.0874</td>\n",
              "      <td>1.1362</td>\n",
              "      <td>8.74</td>\n",
              "      <td>0.012486</td>\n",
              "    </tr>\n",
              "    <tr>\n",
              "      <th>...</th>\n",
              "      <td>...</td>\n",
              "      <td>...</td>\n",
              "      <td>...</td>\n",
              "      <td>...</td>\n",
              "      <td>...</td>\n",
              "      <td>...</td>\n",
              "      <td>...</td>\n",
              "      <td>...</td>\n",
              "      <td>...</td>\n",
              "      <td>...</td>\n",
              "      <td>...</td>\n",
              "    </tr>\n",
              "    <tr>\n",
              "      <th>988</th>\n",
              "      <td>23662</td>\n",
              "      <td>7.11</td>\n",
              "      <td>330.854505</td>\n",
              "      <td>6.3279</td>\n",
              "      <td>2012</td>\n",
              "      <td>6.1146</td>\n",
              "      <td>2019</td>\n",
              "      <td>0.2133</td>\n",
              "      <td>0.9954</td>\n",
              "      <td>21.33</td>\n",
              "      <td>0.030471</td>\n",
              "    </tr>\n",
              "    <tr>\n",
              "      <th>989</th>\n",
              "      <td>23666</td>\n",
              "      <td>7.11</td>\n",
              "      <td>330.848498</td>\n",
              "      <td>6.3279</td>\n",
              "      <td>2012</td>\n",
              "      <td>6.2568</td>\n",
              "      <td>2019</td>\n",
              "      <td>0.0711</td>\n",
              "      <td>0.8532</td>\n",
              "      <td>7.11</td>\n",
              "      <td>0.010157</td>\n",
              "    </tr>\n",
              "    <tr>\n",
              "      <th>990</th>\n",
              "      <td>23666</td>\n",
              "      <td>7.11</td>\n",
              "      <td>330.842492</td>\n",
              "      <td>5.8302</td>\n",
              "      <td>2012</td>\n",
              "      <td>5.6880</td>\n",
              "      <td>2019</td>\n",
              "      <td>0.1422</td>\n",
              "      <td>1.4220</td>\n",
              "      <td>14.22</td>\n",
              "      <td>0.020314</td>\n",
              "    </tr>\n",
              "    <tr>\n",
              "      <th>991</th>\n",
              "      <td>23710</td>\n",
              "      <td>7.11</td>\n",
              "      <td>330.836485</td>\n",
              "      <td>6.3990</td>\n",
              "      <td>2012</td>\n",
              "      <td>6.1857</td>\n",
              "      <td>2019</td>\n",
              "      <td>0.2133</td>\n",
              "      <td>0.9243</td>\n",
              "      <td>21.33</td>\n",
              "      <td>0.030471</td>\n",
              "    </tr>\n",
              "    <tr>\n",
              "      <th>992</th>\n",
              "      <td>23710</td>\n",
              "      <td>7.11</td>\n",
              "      <td>330.830478</td>\n",
              "      <td>6.3279</td>\n",
              "      <td>2012</td>\n",
              "      <td>6.2568</td>\n",
              "      <td>2019</td>\n",
              "      <td>0.0711</td>\n",
              "      <td>0.8532</td>\n",
              "      <td>7.11</td>\n",
              "      <td>0.010157</td>\n",
              "    </tr>\n",
              "  </tbody>\n",
              "</table>\n",
              "<p>993 rows × 11 columns</p>\n",
              "</div>"
            ],
            "text/plain": [
              "     junta   ...  perdida de espesor por año\n",
              "0        30  ...                    0.012486\n",
              "1        30  ...                    0.012486\n",
              "2       120  ...                    0.012486\n",
              "3       130  ...                    0.024971\n",
              "4       130  ...                    0.012486\n",
              "..      ...  ...                         ...\n",
              "988   23662  ...                    0.030471\n",
              "989   23666  ...                    0.010157\n",
              "990   23666  ...                    0.020314\n",
              "991   23710  ...                    0.030471\n",
              "992   23710  ...                    0.010157\n",
              "\n",
              "[993 rows x 11 columns]"
            ]
          },
          "metadata": {
            "tags": []
          },
          "execution_count": 7
        }
      ]
    },
    {
      "cell_type": "code",
      "metadata": {
        "id": "7t5QkdkPCgso",
        "colab_type": "code",
        "colab": {}
      },
      "source": [
        "import matplotlib.pyplot as plt"
      ],
      "execution_count": 8,
      "outputs": []
    },
    {
      "cell_type": "code",
      "metadata": {
        "id": "chP0k1yyC4Go",
        "colab_type": "code",
        "colab": {
          "base_uri": "https://localhost:8080/",
          "height": 313
        },
        "outputId": "6664ca63-e92f-4900-bade-f3c85ba632d1"
      },
      "source": [
        "plt.plot(sheet_compara['perdida de espesor por año'], '.')\n",
        "plt.title('Tasa de pérdida de espesor por año')\n",
        "plt.xlabel('número de fila en planilla')\n",
        "plt.ylabel('Pérdida de espesor por año')"
      ],
      "execution_count": 9,
      "outputs": [
        {
          "output_type": "execute_result",
          "data": {
            "text/plain": [
              "Text(0, 0.5, 'Pérdida de espesor por año')"
            ]
          },
          "metadata": {
            "tags": []
          },
          "execution_count": 9
        },
        {
          "output_type": "display_data",
          "data": {
            "image/png": "[encoded data removed]",
            "text/plain": [
              "<Figure size 432x288 with 1 Axes>"
            ]
          },
          "metadata": {
            "tags": [],
            "needs_background": "light"
          }
        }
      ]
    },
    {
      "cell_type": "code",
      "metadata": {
        "id": "EwjXQHGkDDV9",
        "colab_type": "code",
        "colab": {
          "base_uri": "https://localhost:8080/",
          "height": 313
        },
        "outputId": "408e02f8-8103-458a-faea-f20d8befc9a6"
      },
      "source": [
        "sheet_compara['perdida de espesor por año'].hist(bins=75)\n",
        "plt.title('Histograma valores de tasa de pérdida de espesor anual')\n",
        "plt.xlabel('Tasa de pérdida de espesor anual')\n",
        "plt.ylabel('Cantidad de muestras')"
      ],
      "execution_count": 10,
      "outputs": [
        {
          "output_type": "execute_result",
          "data": {
            "text/plain": [
              "Text(0, 0.5, 'Cantidad de muestras')"
            ]
          },
          "metadata": {
            "tags": []
          },
          "execution_count": 10
        },
        {
          "output_type": "display_data",
          "data": {
            "image/png": "[encoded data removed]",
            "text/plain": [
              "<Figure size 432x288 with 1 Axes>"
            ]
          },
          "metadata": {
            "tags": [],
            "needs_background": "light"
          }
        }
      ]
    },
    {
      "cell_type": "code",
      "metadata": {
        "id": "WoOI9TeYCdW6",
        "colab_type": "code",
        "colab": {}
      },
      "source": [
        "index = sheet_compara['perdida de espesor por año'].sort_values().index\n",
        "df = sheet_compara.loc[index]"
      ],
      "execution_count": 32,
      "outputs": []
    },
    {
      "cell_type": "code",
      "metadata": {
        "id": "ZC_CZYdBDMik",
        "colab_type": "code",
        "colab": {
          "base_uri": "https://localhost:8080/",
          "height": 282
        },
        "outputId": "d6d1e6b7-49ef-4775-8003-c9ada280640d"
      },
      "source": [
        "plt.plot(df['ESPESOR NOMINAL'], df['perdida de espesor por año'], '.')"
      ],
      "execution_count": 33,
      "outputs": [
        {
          "output_type": "execute_result",
          "data": {
            "text/plain": [
              "[<matplotlib.lines.Line2D at 0x7fbc9f843208>]"
            ]
          },
          "metadata": {
            "tags": []
          },
          "execution_count": 33
        },
        {
          "output_type": "display_data",
          "data": {
            "image/png": "[encoded data removed]",
            "text/plain": [
              "<Figure size 432x288 with 1 Axes>"
            ]
          },
          "metadata": {
            "tags": [],
            "needs_background": "light"
          }
        }
      ]
    },
    {
      "cell_type": "code",
      "metadata": {
        "id": "NlCZqNjA-TgS",
        "colab_type": "code",
        "colab": {
          "base_uri": "https://localhost:8080/",
          "height": 282
        },
        "outputId": "86d1684b-e3e4-4fd6-e2a6-9f2d0e670123"
      },
      "source": [
        "plt.plot(df['esp. remanente mm'], df['perdida de espesor por año'], '.')"
      ],
      "execution_count": 34,
      "outputs": [
        {
          "output_type": "execute_result",
          "data": {
            "text/plain": [
              "[<matplotlib.lines.Line2D at 0x7fbc9f7a3198>]"
            ]
          },
          "metadata": {
            "tags": []
          },
          "execution_count": 34
        },
        {
          "output_type": "display_data",
          "data": {
            "image/png": "[encoded data removed]",
            "text/plain": [
              "<Figure size 432x288 with 1 Axes>"
            ]
          },
          "metadata": {
            "tags": [],
            "needs_background": "light"
          }
        }
      ]
    },
    {
      "cell_type": "code",
      "metadata": {
        "id": "CcAQgAA_EU6G",
        "colab_type": "code",
        "colab": {
          "base_uri": "https://localhost:8080/",
          "height": 282
        },
        "outputId": "083aa8cf-3839-4165-f521-815e042cb15b"
      },
      "source": [
        "plt.plot(df['ESPESOR REMANENTE EN mm'], df['perdida de espesor por año'], '.')"
      ],
      "execution_count": 35,
      "outputs": [
        {
          "output_type": "execute_result",
          "data": {
            "text/plain": [
              "[<matplotlib.lines.Line2D at 0x7fbc9f77d470>]"
            ]
          },
          "metadata": {
            "tags": []
          },
          "execution_count": 35
        },
        {
          "output_type": "display_data",
          "data": {
            "image/png": "[encoded data removed]",
            "text/plain": [
              "<Figure size 432x288 with 1 Axes>"
            ]
          },
          "metadata": {
            "tags": [],
            "needs_background": "light"
          }
        }
      ]
    },
    {
      "cell_type": "code",
      "metadata": {
        "id": "lWj3ez0FEqrf",
        "colab_type": "code",
        "colab": {
          "base_uri": "https://localhost:8080/",
          "height": 282
        },
        "outputId": "45982163-b846-4e78-e061-d3afbc1dff6f"
      },
      "source": [
        "plt.plot(df['ALTitud (mts)'], df['perdida de espesor por año'], '.')"
      ],
      "execution_count": 36,
      "outputs": [
        {
          "output_type": "execute_result",
          "data": {
            "text/plain": [
              "[<matplotlib.lines.Line2D at 0x7fbc9f6d48d0>]"
            ]
          },
          "metadata": {
            "tags": []
          },
          "execution_count": 36
        },
        {
          "output_type": "display_data",
          "data": {
            "image/png": "[encoded data removed]",
            "text/plain": [
              "<Figure size 432x288 with 1 Axes>"
            ]
          },
          "metadata": {
            "tags": [],
            "needs_background": "light"
          }
        }
      ]
    },
    {
      "cell_type": "code",
      "metadata": {
        "id": "xngOUgWhFDH9",
        "colab_type": "code",
        "colab": {}
      },
      "source": [
        ""
      ],
      "execution_count": null,
      "outputs": []
    }
  ]
}